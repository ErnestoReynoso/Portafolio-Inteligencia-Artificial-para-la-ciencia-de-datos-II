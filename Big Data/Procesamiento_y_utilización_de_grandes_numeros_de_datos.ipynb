{
  "cells": [
    {
      "cell_type": "markdown",
      "source": [
        "#Procesamiento y utilización de grandes numeros de datos\n",
        "\n",
        "Ernesto Reynoso Lizárraga A0139915"
      ],
      "metadata": {
        "id": "p78CjpvNLkz4"
      }
    },
    {
      "cell_type": "markdown",
      "metadata": {
        "id": "lXkijCkj94b3"
      },
      "source": [
        "### Descarga y configuración de pyspark"
      ]
    },
    {
      "cell_type": "code",
      "execution_count": 4,
      "metadata": {
        "colab": {
          "base_uri": "https://localhost:8080/",
          "height": 0
        },
        "id": "hnb_3GT_6sbT",
        "outputId": "d932374e-5055-44c6-f8ae-58812efc66e5"
      },
      "outputs": [
        {
          "output_type": "stream",
          "name": "stdout",
          "text": [
            "Collecting pyspark\n",
            "  Using cached pyspark-3.5.0.tar.gz (316.9 MB)\n",
            "  Preparing metadata (setup.py) ... \u001b[?25l\u001b[?25hdone\n",
            "Requirement already satisfied: py4j in /usr/local/lib/python3.10/dist-packages (0.10.9.7)\n",
            "Building wheels for collected packages: pyspark\n",
            "  Building wheel for pyspark (setup.py) ... \u001b[?25l\u001b[?25hdone\n",
            "  Created wheel for pyspark: filename=pyspark-3.5.0-py2.py3-none-any.whl size=317425344 sha256=7daba9cb8347101352d8420d3a8ad3ac7879ce8a1383c96d77cd2b24c92b2cd2\n",
            "  Stored in directory: /root/.cache/pip/wheels/41/4e/10/c2cf2467f71c678cfc8a6b9ac9241e5e44a01940da8fbb17fc\n",
            "Successfully built pyspark\n",
            "Installing collected packages: pyspark\n",
            "Successfully installed pyspark-3.5.0\n"
          ]
        }
      ],
      "source": [
        "!pip install pyspark py4j"
      ]
    },
    {
      "cell_type": "code",
      "execution_count": 5,
      "metadata": {
        "id": "eIqgrw0J69AB"
      },
      "outputs": [],
      "source": [
        "from pyspark.sql import SparkSession\n",
        "from pyspark.ml.regression import LinearRegression\n",
        "from pyspark.ml.classification import LogisticRegression\n",
        "from pyspark.ml.clustering import KMeans\n",
        "from pyspark.ml.evaluation import ClusteringEvaluator\n",
        "from sklearn.metrics import confusion_matrix\n",
        "import seaborn as sns\n",
        "import matplotlib.pyplot as plt"
      ]
    },
    {
      "cell_type": "code",
      "execution_count": 6,
      "metadata": {
        "id": "Da98DlV76__O"
      },
      "outputs": [],
      "source": [
        "spark = SparkSession.builder.appName(\"tec\").getOrCreate()"
      ]
    },
    {
      "cell_type": "markdown",
      "metadata": {
        "id": "aPcLYMSxEetW"
      },
      "source": [
        "### Modelo de regresión lineal"
      ]
    },
    {
      "cell_type": "code",
      "execution_count": 7,
      "metadata": {
        "id": "q79FZmmDAKkx"
      },
      "outputs": [],
      "source": [
        "entrenamientolr = spark.read.format(\"libsvm\").load(\"/content/drive/MyDrive/Inteligencia Artificial/sample_linear_regression_data.txt\")"
      ]
    },
    {
      "cell_type": "markdown",
      "metadata": {
        "id": "g3AXFLF-G2C0"
      },
      "source": [
        "Creamos el modelo"
      ]
    },
    {
      "cell_type": "code",
      "execution_count": 8,
      "metadata": {
        "id": "gU39XdSRG5e6"
      },
      "outputs": [],
      "source": [
        "modelolr = LinearRegression(maxIter=10, regParam=0.3, elasticNetParam=0.8)"
      ]
    },
    {
      "cell_type": "markdown",
      "metadata": {
        "id": "N034jf4NG-U2"
      },
      "source": [
        "Ajustamos el modelo con los datos de entrenamiento"
      ]
    },
    {
      "cell_type": "code",
      "execution_count": 9,
      "metadata": {
        "id": "JEYH_YmsHCiZ"
      },
      "outputs": [],
      "source": [
        "modelolr = modelolr.fit(entrenamientolr)"
      ]
    },
    {
      "cell_type": "markdown",
      "metadata": {
        "id": "-uuIq0mgHHiD"
      },
      "source": [
        "mostramos los coeficientes de las variables"
      ]
    },
    {
      "cell_type": "code",
      "execution_count": 10,
      "metadata": {
        "colab": {
          "base_uri": "https://localhost:8080/",
          "height": 0
        },
        "id": "zMTJOFs0HZKI",
        "outputId": "e68c644e-6f4c-41d5-f75b-73b08acdc2f0"
      },
      "outputs": [
        {
          "output_type": "stream",
          "name": "stdout",
          "text": [
            "Coeficientes: [0.0,0.3229251667740594,-0.3438548034562219,1.915601702345841,0.05288058680386255,0.765962720459771,0.0,-0.15105392669186676,-0.21587930360904645,0.2202536918881343]\n",
            "beta0: 0.15989368442397356\n"
          ]
        }
      ],
      "source": [
        "print(\"Coeficientes: %s\" % str(modelolr.coefficients))\n",
        "print(\"beta0: %s\" % str(modelolr.intercept))"
      ]
    },
    {
      "cell_type": "markdown",
      "source": [
        "Mostramos en una grafica de barras los valores de los coeficientes para ver su impacto en el modelo."
      ],
      "metadata": {
        "id": "yKUwptXv7DqZ"
      }
    },
    {
      "cell_type": "code",
      "source": [
        "etiquetas = range(len(modelolr.coefficients))\n",
        "plt.bar(etiquetas, modelolr.coefficients)\n",
        "plt.grid()\n",
        "plt.show()"
      ],
      "metadata": {
        "colab": {
          "base_uri": "https://localhost:8080/",
          "height": 431
        },
        "id": "sHMQgUCG3-cZ",
        "outputId": "30dcd627-0fa3-45f0-80b5-8f3e8a08954a"
      },
      "execution_count": 11,
      "outputs": [
        {
          "output_type": "display_data",
          "data": {
            "text/plain": [
              "<Figure size 640x480 with 1 Axes>"
            ],
            "image/png": "[encoded data removed]"
          },
          "metadata": {}
        }
      ]
    },
    {
      "cell_type": "markdown",
      "metadata": {
        "id": "0QavOVqFINaA"
      },
      "source": [
        "mostramos la R^2 y la raiz del error cuadratico medio"
      ]
    },
    {
      "cell_type": "code",
      "execution_count": 12,
      "metadata": {
        "colab": {
          "base_uri": "https://localhost:8080/",
          "height": 0
        },
        "id": "vDQbzOCbBPdW",
        "outputId": "30f2f5de-1434-41c7-ff00-106639153064"
      },
      "outputs": [
        {
          "output_type": "stream",
          "name": "stdout",
          "text": [
            "RMSE: 10.189077\n",
            "r2: 0.022861\n"
          ]
        }
      ],
      "source": [
        "print(\"RMSE: %f\" % modelolr.summary.rootMeanSquaredError)\n",
        "print(\"r2: %f\" % modelolr.summary.r2)"
      ]
    },
    {
      "cell_type": "markdown",
      "metadata": {
        "id": "VE061cf6IYL0"
      },
      "source": [
        "### Modelo de Clasificación"
      ]
    },
    {
      "cell_type": "markdown",
      "metadata": {
        "id": "AZsxdXhNKOQN"
      },
      "source": [
        "Preparamos los datos"
      ]
    },
    {
      "cell_type": "code",
      "execution_count": 13,
      "metadata": {
        "id": "9042LuD8Iewi"
      },
      "outputs": [],
      "source": [
        "entrenamientoC = spark.read.format(\"libsvm\").load(\"/content/drive/MyDrive/Inteligencia Artificial/sample_libsvm_data.txt\")"
      ]
    },
    {
      "cell_type": "markdown",
      "metadata": {
        "id": "CZ-EjbALKLxP"
      },
      "source": [
        "Creamos el modelo"
      ]
    },
    {
      "cell_type": "code",
      "execution_count": 14,
      "metadata": {
        "id": "S3KQYVFDKdbz"
      },
      "outputs": [],
      "source": [
        "modeloC = LogisticRegression(maxIter=10, regParam=0.3, elasticNetParam=0.8)"
      ]
    },
    {
      "cell_type": "markdown",
      "metadata": {
        "id": "gPbkFvJKKo2G"
      },
      "source": [
        "Ajustamos el modelo a los datos"
      ]
    },
    {
      "cell_type": "code",
      "execution_count": 15,
      "metadata": {
        "id": "y6-rC8KUKt4D"
      },
      "outputs": [],
      "source": [
        "modeloC = modeloC.fit(entrenamientoC)"
      ]
    },
    {
      "cell_type": "markdown",
      "metadata": {
        "id": "H2yZ5XsjOo4z"
      },
      "source": [
        "Mostramos los coeficientes de las variables"
      ]
    },
    {
      "cell_type": "code",
      "execution_count": 16,
      "metadata": {
        "colab": {
          "base_uri": "https://localhost:8080/",
          "height": 0
        },
        "id": "JrkhbznvOoc-",
        "outputId": "8f95a7a8-b3ea-4860-d437-2a04e7cb4f7c"
      },
      "outputs": [
        {
          "output_type": "stream",
          "name": "stdout",
          "text": [
            "beta0: -0.5991460286401438\n",
            "Coefficients: (692,[272,300,323,350,351,378,379,405,406,407,428,433,434,435,455,456,461,462,483,484,489,490,496,511,512,517,539,540,568],[-7.520689871384125e-05,-8.115773146847006e-05,3.814692771846427e-05,0.0003776490540424338,0.0003405148366194403,0.0005514455157343107,0.0004085386116096912,0.0004197467332749452,0.0008119171358670031,0.000502770837266875,-2.3929260406600902e-05,0.0005745048020902297,0.0009037546426803677,7.818229700243899e-05,-2.1787551952911914e-05,-3.402165821789542e-05,0.0004966517360637633,0.0008190557828370372,-8.017982139522613e-05,-2.743169403783527e-05,0.0004810832226238988,0.0004840801762677878,-8.926472920009901e-06,-0.00034148812330427297,-8.950592574121382e-05,0.00048645469116892156,-8.478698005186097e-05,-0.00042347832158317705,-7.296535777631246e-05])\n"
          ]
        }
      ],
      "source": [
        "print(\"beta0: \" + str(modeloC.intercept))\n",
        "print(\"Coefficients: \" + str(modeloC.coefficients))\n"
      ]
    },
    {
      "cell_type": "markdown",
      "source": [
        "Realizamos una predicción"
      ],
      "metadata": {
        "id": "HaUDXwEYDsTy"
      }
    },
    {
      "cell_type": "code",
      "source": [
        "predicciones = modeloC.transform(entrenamientoC)"
      ],
      "metadata": {
        "id": "9GrAS-dp-up_"
      },
      "execution_count": 17,
      "outputs": []
    },
    {
      "cell_type": "markdown",
      "source": [
        "Mostramos la matriz de confusión"
      ],
      "metadata": {
        "id": "6nHhw5vsB7Gx"
      }
    },
    {
      "cell_type": "code",
      "source": [
        "y_true = entrenamientoC.select(\"label\").rdd.map(lambda row: row[0]).collect()\n",
        "y_pred = predicciones.select(\"prediction\").rdd.map(lambda row: row[0]).collect()"
      ],
      "metadata": {
        "id": "wfTfAFw6C09F"
      },
      "execution_count": 18,
      "outputs": []
    },
    {
      "cell_type": "code",
      "source": [
        "cm = confusion_matrix(y_true, y_pred)"
      ],
      "metadata": {
        "id": "rWnEJTJaB-k1"
      },
      "execution_count": 19,
      "outputs": []
    },
    {
      "cell_type": "code",
      "source": [
        "plt.figure(figsize=(8, 6))\n",
        "sns.heatmap(cm,annot=True, cmap=\"Blues\")\n",
        "plt.xlabel('Predicción')\n",
        "plt.ylabel('Real')\n",
        "plt.title('Matriz de Confusión')"
      ],
      "metadata": {
        "colab": {
          "base_uri": "https://localhost:8080/",
          "height": 581
        },
        "id": "t4CV48V3DU8e",
        "outputId": "238d7351-0404-4691-e7e9-ffbbfa509fe5"
      },
      "execution_count": 20,
      "outputs": [
        {
          "output_type": "execute_result",
          "data": {
            "text/plain": [
              "Text(0.5, 1.0, 'Matriz de Confusión')"
            ]
          },
          "metadata": {},
          "execution_count": 20
        },
        {
          "output_type": "display_data",
          "data": {
            "text/plain": [
              "<Figure size 800x600 with 2 Axes>"
            ],
            "image/png": "[encoded data removed]"
          },
          "metadata": {}
        }
      ]
    },
    {
      "cell_type": "markdown",
      "metadata": {
        "id": "WksCn2ygxDUQ"
      },
      "source": [
        "##Modelo de Agrupamiento"
      ]
    },
    {
      "cell_type": "markdown",
      "metadata": {
        "id": "Z17RqBopxMyK"
      },
      "source": [
        "Preparamos los datos"
      ]
    },
    {
      "cell_type": "code",
      "execution_count": 21,
      "metadata": {
        "id": "_UGkVw53xHWf"
      },
      "outputs": [],
      "source": [
        "entrenamientoA = spark.read.format(\"libsvm\").load(\"/content/drive/MyDrive/Inteligencia Artificial/sample_kmeans_data.txt\")"
      ]
    },
    {
      "cell_type": "markdown",
      "metadata": {
        "id": "mxTBxXHuxvw7"
      },
      "source": [
        "Creamos el modelo ajustandolo a los datos"
      ]
    },
    {
      "cell_type": "code",
      "execution_count": 22,
      "metadata": {
        "id": "F4R5B2Dux7d2"
      },
      "outputs": [],
      "source": [
        "kmeans = KMeans()\n",
        "modeloA = kmeans.fit(entrenamientoA)"
      ]
    },
    {
      "cell_type": "markdown",
      "metadata": {
        "id": "Ur11UNlizpiO"
      },
      "source": [
        "Realizamos las predicciones con el modelo"
      ]
    },
    {
      "cell_type": "code",
      "execution_count": 23,
      "metadata": {
        "id": "gLpICZ7FzwXs"
      },
      "outputs": [],
      "source": [
        "predicciones = modeloA.transform(entrenamientoA)"
      ]
    },
    {
      "cell_type": "markdown",
      "metadata": {
        "id": "iTqnscakz4U6"
      },
      "source": [
        "Evaluamos las predicciones calculando el indice de silhouette"
      ]
    },
    {
      "cell_type": "code",
      "execution_count": 24,
      "metadata": {
        "colab": {
          "base_uri": "https://localhost:8080/",
          "height": 0
        },
        "id": "7vNIy1xVzwWW",
        "outputId": "2d72ff6f-b754-4c54-d3c2-2558e2517cba"
      },
      "outputs": [
        {
          "output_type": "stream",
          "name": "stdout",
          "text": [
            "Silhouette with squared euclidean distance = 0.9997530305375207\n"
          ]
        }
      ],
      "source": [
        "evaluacion = ClusteringEvaluator()\n",
        "silhouette = evaluacion.evaluate(predicciones)\n",
        "print(\"Silhouette with squared euclidean distance = \" + str(silhouette))"
      ]
    },
    {
      "cell_type": "markdown",
      "source": [
        "Mostramos las coordenadas de los centros"
      ],
      "metadata": {
        "id": "rEn0deSL2g5Q"
      }
    },
    {
      "cell_type": "code",
      "execution_count": 25,
      "metadata": {
        "id": "1ppNAa_q0A4t",
        "colab": {
          "base_uri": "https://localhost:8080/",
          "height": 0
        },
        "outputId": "4f3ec04a-e50b-4d3c-e362-18fb50584331"
      },
      "outputs": [
        {
          "output_type": "stream",
          "name": "stdout",
          "text": [
            "Cluster Centers: \n",
            "[9.1 9.1 9.1]\n",
            "[0.1 0.1 0.1]\n"
          ]
        }
      ],
      "source": [
        "centros = modeloA.clusterCenters()\n",
        "print(\"Cluster Centers: \")\n",
        "for centro in centros:\n",
        "    print(centro)"
      ]
    },
    {
      "cell_type": "markdown",
      "source": [
        "En un grafico mostramos que tan separados estan los centros de los clusters"
      ],
      "metadata": {
        "id": "DmPiJm2MLFbC"
      }
    },
    {
      "cell_type": "code",
      "source": [
        "x_centros = [centro[0] for centro in centros]\n",
        "y_centros = [centro[1] for centro in centros]\n",
        "\n",
        "# Crea un gráfico de dispersión para visualizar los centros de los clústeres\n",
        "plt.figure(figsize=(8, 6))\n",
        "plt.scatter(x_centros, y_centros, c='red', marker='.', s=100)\n",
        "plt.title('Centros de Clústeres')\n",
        "\n",
        "# Muestra el gráfico\n",
        "plt.show()"
      ],
      "metadata": {
        "colab": {
          "base_uri": "https://localhost:8080/",
          "height": 545
        },
        "id": "DbWQp0VSK1gW",
        "outputId": "23260762-f09c-4b87-8536-64f770eeb60e"
      },
      "execution_count": 26,
      "outputs": [
        {
          "output_type": "display_data",
          "data": {
            "text/plain": [
              "<Figure size 800x600 with 1 Axes>"
            ],
            "image/png": "[encoded data removed]"
          },
          "metadata": {}
        }
      ]
    }
  ],
  "metadata": {
    "colab": {
      "provenance": []
    },
    "kernelspec": {
      "display_name": "Python 3",
      "name": "python3"
    },
    "language_info": {
      "name": "python"
    }
  },
  "nbformat": 4,
  "nbformat_minor": 0
}